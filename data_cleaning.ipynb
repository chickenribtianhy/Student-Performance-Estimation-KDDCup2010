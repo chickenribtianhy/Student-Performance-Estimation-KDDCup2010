{
 "cells": [
  {
   "cell_type": "code",
   "execution_count": 1,
   "metadata": {},
   "outputs": [],
   "source": [
    "import pandas as pd\n",
    "import numpy as np\n",
    "import math\n",
    "import matplotlib.pyplot as plt"
   ]
  },
  {
   "cell_type": "code",
   "execution_count": 2,
   "metadata": {},
   "outputs": [],
   "source": [
    "train_data = 'data/train.csv'\n",
    "test_data = 'data/test.csv'\n",
    "\n",
    "# Read the data\n",
    "train = pd.read_csv(train_data, sep='\\t')\n",
    "test = pd.read_csv(test_data, sep='\\t')"
   ]
  },
  {
   "cell_type": "code",
   "execution_count": 3,
   "metadata": {},
   "outputs": [
    {
     "name": "stdout",
     "output_type": "stream",
     "text": [
      "0\n",
      "0\n"
     ]
    }
   ],
   "source": [
    "print(train.duplicated().sum())\n",
    "print(test.duplicated().sum())"
   ]
  },
  {
   "cell_type": "code",
   "execution_count": 4,
   "metadata": {},
   "outputs": [
    {
     "name": "stdout",
     "output_type": "stream",
     "text": [
      "Row                                 0\n",
      "Anon Student Id                     0\n",
      "Problem Hierarchy                   0\n",
      "Problem Name                        0\n",
      "Problem View                        0\n",
      "Step Name                           0\n",
      "Step Start Time                   292\n",
      "First Transaction Time              0\n",
      "Correct Transaction Time         7034\n",
      "Step End Time                       0\n",
      "Step Duration (sec)               292\n",
      "Correct Step Duration (sec)     51145\n",
      "Error Step Duration (sec)      181891\n",
      "Correct First Attempt               0\n",
      "Incorrects                          0\n",
      "Hints                               0\n",
      "Corrects                            0\n",
      "KC(Default)                     59255\n",
      "Opportunity(Default)            59255\n",
      "dtype: int64\n",
      "Row                               0\n",
      "Anon Student Id                   0\n",
      "Problem Hierarchy                 0\n",
      "Problem Name                      0\n",
      "Problem View                      0\n",
      "Step Name                         0\n",
      "Step Start Time                1140\n",
      "First Transaction Time         1140\n",
      "Correct Transaction Time       1140\n",
      "Step End Time                  1140\n",
      "Step Duration (sec)            1140\n",
      "Correct Step Duration (sec)    1140\n",
      "Error Step Duration (sec)      1140\n",
      "Correct First Attempt           474\n",
      "Incorrects                     1140\n",
      "Hints                          1140\n",
      "Corrects                       1140\n",
      "KC(Default)                     294\n",
      "Opportunity(Default)            294\n",
      "dtype: int64\n"
     ]
    }
   ],
   "source": [
    "print(train.isnull().sum())\n",
    "print(test.isnull().sum())"
   ]
  },
  {
   "cell_type": "code",
   "execution_count": 5,
   "metadata": {},
   "outputs": [
    {
     "name": "stdout",
     "output_type": "stream",
     "text": [
      "False\n",
      "False\n",
      "The check result of train data is: True\n",
      "The check result of test data is: True\n"
     ]
    }
   ],
   "source": [
    "train_unique = train.duplicated(subset=['Anon Student Id','Problem Name','Step Name','Problem View','Step Duration (sec)']).any()\n",
    "test_unique = test.duplicated(subset=['Anon Student Id','Problem Name','Step Name','Problem View','Step Duration (sec)']).any()\n",
    "print(train_unique)\n",
    "print(test_unique)\n",
    "check_train = len(train.drop_duplicates()) == len(train)\n",
    "check_test = len(test.drop_duplicates()) == len(test)\n",
    "print(\"The check result of train data is:\",check_train)\n",
    "print(\"The check result of test data is:\", check_test)"
   ]
  },
  {
   "cell_type": "code",
   "execution_count": 9,
   "metadata": {},
   "outputs": [
    {
     "name": "stdout",
     "output_type": "stream",
     "text": [
      "The number of numerical columns is: 9\n",
      "The number of error rows is: 0\n"
     ]
    }
   ],
   "source": [
    "cols = train.columns\n",
    "col_with_numerical_type = []\n",
    "count = 0\n",
    "for col in cols:\n",
    "    if train[col].dtype != 'object':\n",
    "        col_with_numerical_type.append(col)\n",
    "        count += 1\n",
    "print(\"The number of numerical columns is:\", count)\n",
    "#print(col_with_numerical_type)\n",
    "col_with_numerical_type.remove('Row')\n",
    "#print(col_with_numerical_type)\n",
    "reason_range = 450\n",
    "error_num = 0\n",
    "for col in col_with_numerical_type:\n",
    "    range_min = train[col][0]\n",
    "    range_max = train[col][0]\n",
    "    for index,row in train.iterrows():\n",
    "        if row[col] > range_max:\n",
    "            if row[col] - range_max >= reason_range:\n",
    "                error_num += 1\n",
    "                print(\"The error row is:\", index)\n",
    "                print(\"The error column is:\", col)\n",
    "                print(\"The error value is:\", row[col])\n",
    "            range_max = row[col]\n",
    "        elif range_min > row[col]:\n",
    "            if range_min - row[col] >= reason_range:\n",
    "                error_num += 1\n",
    "                print(\"The error row is:\", index)\n",
    "                print(\"The error column is:\", col)\n",
    "                print(\"The error value is:\", row[col])\n",
    "            range_min = row[col]\n",
    "print(\"The number of error rows is:\", error_num)"
   ]
  }
 ],
 "metadata": {
  "kernelspec": {
   "display_name": "base",
   "language": "python",
   "name": "python3"
  },
  "language_info": {
   "codemirror_mode": {
    "name": "ipython",
    "version": 3
   },
   "file_extension": ".py",
   "mimetype": "text/x-python",
   "name": "python",
   "nbconvert_exporter": "python",
   "pygments_lexer": "ipython3",
   "version": "3.9.13 (main, Aug 25 2022, 18:29:29) \n[Clang 12.0.0 ]"
  },
  "orig_nbformat": 4,
  "vscode": {
   "interpreter": {
    "hash": "e23504043889fa42b3abf6b3dc30fd0cecc64a6dcd47cacce7f61d691edc45b7"
   }
  }
 },
 "nbformat": 4,
 "nbformat_minor": 2
}
